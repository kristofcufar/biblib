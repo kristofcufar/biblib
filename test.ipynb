{
 "cells": [
  {
   "cell_type": "code",
   "execution_count": 1,
   "metadata": {},
   "outputs": [],
   "source": [
    "import biblib.bib\n",
    "import sys\n",
    "import pandas as pd"
   ]
  },
  {
   "cell_type": "code",
   "execution_count": 3,
   "metadata": {},
   "outputs": [],
   "source": [
    "bib_file = \"DATA\\\\library(1).bib\"\n",
    "with open(bib_file, 'r', encoding='utf8') as fp:\n",
    "    db = biblib.bib.Parser().parse(fp, log_fp=sys.stderr).get_entries()\n",
    "    db = dict(db)\n",
    "\n",
    "for key in list(db.keys()):\n",
    "    typ = db[key].typ\n",
    "    db[key] = dict(db[key])\n",
    "    db[key]['type'] = typ\n",
    "    try:\n",
    "        db[key].pop('abstract')\n",
    "    except:\n",
    "        pass\n",
    "    try:\n",
    "        db[key].pop('keywords')\n",
    "    except:\n",
    "        pass\n",
    "\n",
    "    db[key]['title'] = db[key]['title'].replace('{', '')\n",
    "    db[key]['title'] = db[key]['title'].replace('}', '')\n",
    "\n",
    "    db[key]['title'] = '{' + db[key]['title'] + '}'\n",
    "\n",
    "articles_dict = {}\n",
    "for key in db.keys():\n",
    "    if db[key]['type'] == 'article':\n",
    "        articles_dict[key] = db[key]\n",
    "\n",
    "inproceedings_dict = {}\n",
    "for key in db.keys():\n",
    "    if db[key]['type'] == 'inproceedings':\n",
    "        inproceedings_dict[key] = db[key]\n",
    "\n",
    "books_dict = {}\n",
    "for key in db.keys():\n",
    "    if db[key]['type'] == 'book':\n",
    "        books_dict[key] = db[key]\n",
    "\n",
    "misc_dict = {}\n",
    "for key in db.keys():\n",
    "    if db[key]['type'] == 'misc':\n",
    "        misc_dict[key] = db[key]\n",
    "\n",
    "articles_df = pd.DataFrame(articles_dict).T\n",
    "inproceedings_df = pd.DataFrame(inproceedings_dict).T\n",
    "books_df = pd.DataFrame(books_dict).T\n",
    "misc_df = pd.DataFrame(misc_dict).T\n",
    "\n",
    "with pd.ExcelWriter(\"DATA\\\\library.xlsx\") as writer:\n",
    "    articles_df.to_excel(writer, sheet_name='articles')\n",
    "    inproceedings_df.to_excel(writer, sheet_name='inproceedings')\n",
    "    books_df.to_excel(writer, sheet_name='books')\n",
    "    misc_df.to_excel(writer, sheet_name='misc')"
   ]
  },
  {
   "cell_type": "code",
   "execution_count": null,
   "metadata": {},
   "outputs": [],
   "source": []
  },
  {
   "cell_type": "code",
   "execution_count": null,
   "metadata": {},
   "outputs": [],
   "source": []
  },
  {
   "cell_type": "code",
   "execution_count": null,
   "metadata": {},
   "outputs": [],
   "source": []
  },
  {
   "cell_type": "code",
   "execution_count": null,
   "metadata": {},
   "outputs": [],
   "source": []
  }
 ],
 "metadata": {
  "kernelspec": {
   "display_name": ".venv",
   "language": "python",
   "name": "python3"
  },
  "language_info": {
   "codemirror_mode": {
    "name": "ipython",
    "version": 3
   },
   "file_extension": ".py",
   "mimetype": "text/x-python",
   "name": "python",
   "nbconvert_exporter": "python",
   "pygments_lexer": "ipython3",
   "version": "3.11.5"
  }
 },
 "nbformat": 4,
 "nbformat_minor": 2
}
